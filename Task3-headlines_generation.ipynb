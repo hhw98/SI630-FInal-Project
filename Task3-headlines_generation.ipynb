{
 "cells": [
  {
   "cell_type": "code",
   "execution_count": 1,
   "metadata": {},
   "outputs": [],
   "source": [
    "import pandas as pd"
   ]
  },
  {
   "cell_type": "code",
   "execution_count": null,
   "metadata": {},
   "outputs": [],
   "source": []
  },
  {
   "cell_type": "code",
   "execution_count": 2,
   "metadata": {},
   "outputs": [],
   "source": [
    "def preprocess(data):\n",
    "    headlines = data[data.keywords_value=='United States Politics and Government'].headline\n",
    "    headlines = headlines.str.replace(\"(<br/>)\", \"\")\n",
    "    headlines = headlines.str.replace('(<a).*(>).*(</a>)', '')\n",
    "    headlines = headlines.str.replace('(&amp)', '')\n",
    "    headlines = headlines.str.replace('(&gt)', '')\n",
    "    headlines = headlines.str.replace('(&lt)', '')\n",
    "    headlines = headlines.str.replace('(\\xa0)', ' ')  \n",
    "    return headlines"
   ]
  },
  {
   "cell_type": "code",
   "execution_count": null,
   "metadata": {},
   "outputs": [],
   "source": []
  },
  {
   "cell_type": "code",
   "execution_count": 3,
   "metadata": {},
   "outputs": [],
   "source": [
    "#metadata.sectionName.value_counts()"
   ]
  },
  {
   "cell_type": "code",
   "execution_count": null,
   "metadata": {},
   "outputs": [],
   "source": []
  },
  {
   "cell_type": "code",
   "execution_count": null,
   "metadata": {},
   "outputs": [],
   "source": []
  },
  {
   "cell_type": "code",
   "execution_count": 4,
   "metadata": {},
   "outputs": [],
   "source": [
    "df = pd.read_csv('./data/headline.csv')\n",
    "metadata = df.dropna()\n",
    "data = preprocess(metadata)"
   ]
  },
  {
   "cell_type": "code",
   "execution_count": 5,
   "metadata": {},
   "outputs": [
    {
     "data": {
      "text/plain": [
       "id                  0\n",
       "headline          159\n",
       "pub_date            0\n",
       "month               0\n",
       "keywords_name       0\n",
       "keywords_value      0\n",
       "dtype: int64"
      ]
     },
     "execution_count": 5,
     "metadata": {},
     "output_type": "execute_result"
    }
   ],
   "source": [
    "df.isnull().sum()"
   ]
  },
  {
   "cell_type": "code",
   "execution_count": null,
   "metadata": {},
   "outputs": [],
   "source": []
  },
  {
   "cell_type": "code",
   "execution_count": null,
   "metadata": {},
   "outputs": [],
   "source": []
  },
  {
   "cell_type": "code",
   "execution_count": 6,
   "metadata": {},
   "outputs": [],
   "source": [
    "import spacy\n",
    "import markovify\n",
    "nlp = spacy.load(r'C:\\Users\\hyh6hhy\\Anaconda3\\Lib\\site-packages\\en_core_web_sm\\en_core_web_sm-2.0.0')\n",
    "\n",
    "class POSifiedText(markovify.Text):\n",
    "    def word_split(self, sentence):\n",
    "        return [\"::\".join((word.orth_, word.pos_)) for word in nlp(sentence)]\n",
    "\n",
    "    def word_join(self, words):\n",
    "        sentence = \" \".join(word.split(\"::\")[0] for word in words)\n",
    "        return sentence"
   ]
  },
  {
   "cell_type": "code",
   "execution_count": 7,
   "metadata": {},
   "outputs": [
    {
     "name": "stdout",
     "output_type": "stream",
     "text": [
      "Run time for training the generator : 10.43 seconds\n"
     ]
    }
   ],
   "source": [
    "import time\n",
    "start_time = time.time()\n",
    "headlines_generator_POSified = POSifiedText(data, state_size = 2)\n",
    "print(\"Run time for training the generator : {} seconds\".format(round(time.time()-start_time, 2)))"
   ]
  },
  {
   "cell_type": "code",
   "execution_count": 8,
   "metadata": {},
   "outputs": [],
   "source": [
    "def generate_headlines(generator, number=10, short=False):\n",
    "    count = 0\n",
    "    while count < number:\n",
    "        if short:\n",
    "            headline = generator.make_short_sentence(140)\n",
    "        else:\n",
    "            headline = generator.make_sentence()\n",
    "        if headline:\n",
    "            count += 1\n",
    "            #print(\"Headline {}\".format(count))\n",
    "            headlines.append(headline)\n",
    "            #print()\n",
    "    return headlines"
   ]
  },
  {
   "cell_type": "code",
   "execution_count": 11,
   "metadata": {},
   "outputs": [
    {
     "name": "stdout",
     "output_type": "stream",
     "text": [
      "Target Keywords : United States Politics and Government\n",
      "+------------------------------------------------------------------------------+\n",
      "|                                  Headlines                                   |\n",
      "+==============================================================================+\n",
      "| On Politics  Trump Moves Toward Border Deal Is Reached ‘ in Principle’       |\n",
      "+------------------------------------------------------------------------------+\n",
      "| Hillary Clinton Says She Is Not Enough , Anita Hill Says                     |\n",
      "+------------------------------------------------------------------------------+\n",
      "| As Government Reopens , the College Years                                    |\n",
      "+------------------------------------------------------------------------------+\n",
      "| Pressed by Climate Activists , Senate Foreign Relations Committee Goes Quiet |\n",
      "+------------------------------------------------------------------------------+\n",
      "| Barr Says He ’ll Release Mueller Report Head - On                            |\n",
      "+------------------------------------------------------------------------------+\n",
      "| On Politics  Trump Goes on the Shutdown Is Impeding F.B.I. ’s Law            |\n",
      "| Enforcement Efforts                                                          |\n",
      "+------------------------------------------------------------------------------+\n",
      "| On Politics  With Mueller ’s Findings                                        |\n",
      "+------------------------------------------------------------------------------+\n",
      "| Disclosing Subpoena for Testimony , Top Democrats Shy From Impeachment       |\n",
      "+------------------------------------------------------------------------------+\n",
      "| Disclosing Subpoena for Testimony , Top Democrats Shy From Impeachment       |\n",
      "+------------------------------------------------------------------------------+\n",
      "| On Politics  The Sexism Shield                                               |\n",
      "+------------------------------------------------------------------------------+\n"
     ]
    }
   ],
   "source": [
    "\n",
    "import texttable as tt\n",
    "headlines = []\n",
    "headlines = generate_headlines(headlines_generator_POSified)\n",
    "keywords = 'United States Politics and Government'\n",
    "print(\"Target Keywords : \"+keywords)\n",
    "tab = tt.Texttable()\n",
    "headings = ['Headlines']\n",
    "tab.header(headings)\n",
    "headlines = headlines\n",
    "for row in zip(headlines):\n",
    "    tab.add_row(row)\n",
    "s = tab.draw()\n",
    "print(s)\n"
   ]
  },
  {
   "cell_type": "code",
   "execution_count": null,
   "metadata": {},
   "outputs": [],
   "source": []
  },
  {
   "cell_type": "code",
   "execution_count": null,
   "metadata": {},
   "outputs": [],
   "source": []
  }
 ],
 "metadata": {
  "@webio": {
   "lastCommId": null,
   "lastKernelId": null
  },
  "kernelspec": {
   "display_name": "Python 3",
   "language": "python",
   "name": "python3"
  },
  "language_info": {
   "codemirror_mode": {
    "name": "ipython",
    "version": 3
   },
   "file_extension": ".py",
   "mimetype": "text/x-python",
   "name": "python",
   "nbconvert_exporter": "python",
   "pygments_lexer": "ipython3",
   "version": "3.6.8"
  }
 },
 "nbformat": 4,
 "nbformat_minor": 2
}
